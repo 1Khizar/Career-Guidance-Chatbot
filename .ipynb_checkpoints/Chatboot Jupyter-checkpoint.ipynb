{
 "cells": [
  {
   "cell_type": "code",
   "execution_count": 1,
   "id": "7fac1804-6208-49da-83ee-1574a6eb8f2a",
   "metadata": {},
   "outputs": [],
   "source": [
    "import numpy as np\n",
    "import pandas as pd\n",
    "import matplotlib.pyplot as plt\n",
    "import seaborn as sns\n",
    "import sklearn"
   ]
  },
  {
   "cell_type": "code",
   "execution_count": 2,
   "id": "3c1ec933-2f06-4fca-a2ae-17700d2ed6e9",
   "metadata": {},
   "outputs": [],
   "source": [
    "df = pd.read_csv('CareerGuidanceDataset.csv')"
   ]
  },
  {
   "cell_type": "code",
   "execution_count": 3,
   "id": "ef52fb8c-a12d-44a9-95a8-3cc954963db4",
   "metadata": {},
   "outputs": [
    {
     "data": {
      "text/html": [
       "<div>\n",
       "<style scoped>\n",
       "    .dataframe tbody tr th:only-of-type {\n",
       "        vertical-align: middle;\n",
       "    }\n",
       "\n",
       "    .dataframe tbody tr th {\n",
       "        vertical-align: top;\n",
       "    }\n",
       "\n",
       "    .dataframe thead th {\n",
       "        text-align: right;\n",
       "    }\n",
       "</style>\n",
       "<table border=\"1\" class=\"dataframe\">\n",
       "  <thead>\n",
       "    <tr style=\"text-align: right;\">\n",
       "      <th></th>\n",
       "      <th>role</th>\n",
       "      <th>question</th>\n",
       "      <th>answer</th>\n",
       "    </tr>\n",
       "  </thead>\n",
       "  <tbody>\n",
       "    <tr>\n",
       "      <th>0</th>\n",
       "      <td>Data Scientist</td>\n",
       "      <td>What does a Data Scientist do?</td>\n",
       "      <td>A Data Scientist extracts meaningful insights ...</td>\n",
       "    </tr>\n",
       "    <tr>\n",
       "      <th>1</th>\n",
       "      <td>Data Scientist</td>\n",
       "      <td>What are the main responsibilities of a Data S...</td>\n",
       "      <td>Responsibilities include data cleaning, analyz...</td>\n",
       "    </tr>\n",
       "    <tr>\n",
       "      <th>2</th>\n",
       "      <td>Data Scientist</td>\n",
       "      <td>What is the job description for a Data Scientist?</td>\n",
       "      <td>A Data Scientist is responsible for collecting...</td>\n",
       "    </tr>\n",
       "    <tr>\n",
       "      <th>3</th>\n",
       "      <td>Data Scientist</td>\n",
       "      <td>What skills are required to become a Data Scie...</td>\n",
       "      <td>Skills required include expertise in Python or...</td>\n",
       "    </tr>\n",
       "    <tr>\n",
       "      <th>4</th>\n",
       "      <td>Data Scientist</td>\n",
       "      <td>What are the essential skills for a successful...</td>\n",
       "      <td>A successful Data Scientist needs strong analy...</td>\n",
       "    </tr>\n",
       "  </tbody>\n",
       "</table>\n",
       "</div>"
      ],
      "text/plain": [
       "             role                                           question  \\\n",
       "0  Data Scientist                     What does a Data Scientist do?   \n",
       "1  Data Scientist  What are the main responsibilities of a Data S...   \n",
       "2  Data Scientist  What is the job description for a Data Scientist?   \n",
       "3  Data Scientist  What skills are required to become a Data Scie...   \n",
       "4  Data Scientist  What are the essential skills for a successful...   \n",
       "\n",
       "                                              answer  \n",
       "0  A Data Scientist extracts meaningful insights ...  \n",
       "1  Responsibilities include data cleaning, analyz...  \n",
       "2  A Data Scientist is responsible for collecting...  \n",
       "3  Skills required include expertise in Python or...  \n",
       "4  A successful Data Scientist needs strong analy...  "
      ]
     },
     "execution_count": 3,
     "metadata": {},
     "output_type": "execute_result"
    }
   ],
   "source": [
    "df.head()"
   ]
  },
  {
   "cell_type": "code",
   "execution_count": 3,
   "id": "02fd5b08-abcd-4219-b767-9fa2e8de0741",
   "metadata": {},
   "outputs": [
    {
     "data": {
      "text/plain": [
       "(1620, 3)"
      ]
     },
     "execution_count": 3,
     "metadata": {},
     "output_type": "execute_result"
    }
   ],
   "source": [
    "df.shape"
   ]
  },
  {
   "cell_type": "code",
   "execution_count": 4,
   "id": "a06aac61-9400-4f8f-8133-d6633156a43a",
   "metadata": {},
   "outputs": [
    {
     "name": "stdout",
     "output_type": "stream",
     "text": [
      "<class 'pandas.core.frame.DataFrame'>\n",
      "RangeIndex: 1620 entries, 0 to 1619\n",
      "Data columns (total 3 columns):\n",
      " #   Column    Non-Null Count  Dtype \n",
      "---  ------    --------------  ----- \n",
      " 0   role      1620 non-null   object\n",
      " 1   question  1620 non-null   object\n",
      " 2   answer    1620 non-null   object\n",
      "dtypes: object(3)\n",
      "memory usage: 38.1+ KB\n"
     ]
    }
   ],
   "source": [
    "df.info()"
   ]
  },
  {
   "cell_type": "code",
   "execution_count": 6,
   "id": "464b65ab-7916-4ab0-9ab8-62feee5b75f5",
   "metadata": {},
   "outputs": [
    {
     "data": {
      "text/html": [
       "<div>\n",
       "<style scoped>\n",
       "    .dataframe tbody tr th:only-of-type {\n",
       "        vertical-align: middle;\n",
       "    }\n",
       "\n",
       "    .dataframe tbody tr th {\n",
       "        vertical-align: top;\n",
       "    }\n",
       "\n",
       "    .dataframe thead th {\n",
       "        text-align: right;\n",
       "    }\n",
       "</style>\n",
       "<table border=\"1\" class=\"dataframe\">\n",
       "  <thead>\n",
       "    <tr style=\"text-align: right;\">\n",
       "      <th></th>\n",
       "      <th>role</th>\n",
       "      <th>question</th>\n",
       "      <th>answer</th>\n",
       "    </tr>\n",
       "  </thead>\n",
       "  <tbody>\n",
       "    <tr>\n",
       "      <th>count</th>\n",
       "      <td>1620</td>\n",
       "      <td>1620</td>\n",
       "      <td>1620</td>\n",
       "    </tr>\n",
       "    <tr>\n",
       "      <th>unique</th>\n",
       "      <td>54</td>\n",
       "      <td>1620</td>\n",
       "      <td>1620</td>\n",
       "    </tr>\n",
       "    <tr>\n",
       "      <th>top</th>\n",
       "      <td>Data Scientist</td>\n",
       "      <td>What does a Data Scientist do?</td>\n",
       "      <td>A Data Scientist extracts meaningful insights ...</td>\n",
       "    </tr>\n",
       "    <tr>\n",
       "      <th>freq</th>\n",
       "      <td>30</td>\n",
       "      <td>1</td>\n",
       "      <td>1</td>\n",
       "    </tr>\n",
       "  </tbody>\n",
       "</table>\n",
       "</div>"
      ],
      "text/plain": [
       "                  role                        question  \\\n",
       "count             1620                            1620   \n",
       "unique              54                            1620   \n",
       "top     Data Scientist  What does a Data Scientist do?   \n",
       "freq                30                               1   \n",
       "\n",
       "                                                   answer  \n",
       "count                                                1620  \n",
       "unique                                               1620  \n",
       "top     A Data Scientist extracts meaningful insights ...  \n",
       "freq                                                    1  "
      ]
     },
     "execution_count": 6,
     "metadata": {},
     "output_type": "execute_result"
    }
   ],
   "source": [
    "df.describe()"
   ]
  },
  {
   "cell_type": "code",
   "execution_count": 7,
   "id": "f8f61321-ed25-4203-a86d-2a2987337725",
   "metadata": {},
   "outputs": [
    {
     "data": {
      "text/plain": [
       "role        0\n",
       "question    0\n",
       "answer      0\n",
       "dtype: int64"
      ]
     },
     "execution_count": 7,
     "metadata": {},
     "output_type": "execute_result"
    }
   ],
   "source": [
    "df.isnull().sum()"
   ]
  },
  {
   "cell_type": "code",
   "execution_count": 8,
   "id": "3886f193-50ed-4c77-b407-a8d4c4a95f70",
   "metadata": {},
   "outputs": [
    {
     "data": {
      "text/plain": [
       "0"
      ]
     },
     "execution_count": 8,
     "metadata": {},
     "output_type": "execute_result"
    }
   ],
   "source": [
    "df.duplicated().sum()"
   ]
  },
  {
   "cell_type": "code",
   "execution_count": 9,
   "id": "12769968-67d5-4e18-9aa9-d78f7aded70b",
   "metadata": {},
   "outputs": [
    {
     "data": {
      "text/plain": [
       "array(['Data Scientist', 'Data Analyst', 'Software Engineer',\n",
       "       'Machine Learning Engineer', 'AI Researcher', 'Business Analyst',\n",
       "       'Product Manager (Entry-level)', 'QA Engineer', 'UX/UI Designer',\n",
       "       'Digital Marketing Analyst', 'Automation Engineer',\n",
       "       'Robotics Engineer', 'Game Developer',\n",
       "       'Data Visualization Specialist', 'Mobile App Developer',\n",
       "       'Site Reliability Engineer (SRE)', 'Salesforce Administrator',\n",
       "       'Business Intelligence Analyst', 'Scrum Master (Junior level)',\n",
       "       'E-commerce Specialist', 'Systems Administrator',\n",
       "       'Technical Support Engineer', 'Web Developer',\n",
       "       'Cloud Consultant (Junior level)', 'Cloud Database Engineer',\n",
       "       'Application Support Analyst', 'AI Software Engineer',\n",
       "       'Social Media Analyst', 'Content Strategist', 'SEO Specialist',\n",
       "       'SEM (Search Engine Marketing) Specialist',\n",
       "       'Digital Marketing Manager (Junior level)',\n",
       "       'Advertising Manager (Junior level)',\n",
       "       'Affiliate Marketing Manager (Junior level)',\n",
       "       'Market Development Manager (Junior level)',\n",
       "       'Customer Relationship Manager', 'Product Owner (Entry-level)',\n",
       "       'UX Researcher', 'Knowledge Manager (Junior level)',\n",
       "       'Corporate Social Responsibility (CSR) Manager (Entry-level)',\n",
       "       'Sustainability Consultant (Entry-level)', 'Media Buyer',\n",
       "       'Travel Coordinator', 'Legal Assistant', 'Claims Adjuster',\n",
       "       'Insurance Underwriter (Junior level)',\n",
       "       'Policy Advisor (Junior level)',\n",
       "       'Quality Control Manager (Entry-level)',\n",
       "       'Operations Executive (Entry-level)',\n",
       "       'Procurement Manager (Junior level)',\n",
       "       'Retail Manager (Entry-level)', 'Franchise Manager (Entry-level)',\n",
       "       'Account Manager (Junior level)',\n",
       "       'Fundraising Manager (Entry-level)'], dtype=object)"
      ]
     },
     "execution_count": 9,
     "metadata": {},
     "output_type": "execute_result"
    }
   ],
   "source": [
    "# Count unique vlaues in first column\n",
    "df.iloc[:,0].unique()"
   ]
  },
  {
   "cell_type": "code",
   "execution_count": 10,
   "id": "44ca461f-ac5d-4f21-87c8-024cb0906003",
   "metadata": {},
   "outputs": [
    {
     "data": {
      "text/plain": [
       "role\n",
       "Data Scientist                                                 30\n",
       "Sustainability Consultant (Entry-level)                        30\n",
       "SEO Specialist                                                 30\n",
       "SEM (Search Engine Marketing) Specialist                       30\n",
       "Digital Marketing Manager (Junior level)                       30\n",
       "Advertising Manager (Junior level)                             30\n",
       "Affiliate Marketing Manager (Junior level)                     30\n",
       "Market Development Manager (Junior level)                      30\n",
       "Customer Relationship Manager                                  30\n",
       "Product Owner (Entry-level)                                    30\n",
       "UX Researcher                                                  30\n",
       "Knowledge Manager (Junior level)                               30\n",
       "Corporate Social Responsibility (CSR) Manager (Entry-level)    30\n",
       "Media Buyer                                                    30\n",
       "Data Analyst                                                   30\n",
       "Travel Coordinator                                             30\n",
       "Legal Assistant                                                30\n",
       "Claims Adjuster                                                30\n",
       "Insurance Underwriter (Junior level)                           30\n",
       "Policy Advisor (Junior level)                                  30\n",
       "Quality Control Manager (Entry-level)                          30\n",
       "Operations Executive (Entry-level)                             30\n",
       "Procurement Manager (Junior level)                             30\n",
       "Retail Manager (Entry-level)                                   30\n",
       "Franchise Manager (Entry-level)                                30\n",
       "Account Manager (Junior level)                                 30\n",
       "Content Strategist                                             30\n",
       "Social Media Analyst                                           30\n",
       "AI Software Engineer                                           30\n",
       "Application Support Analyst                                    30\n",
       "Software Engineer                                              30\n",
       "Machine Learning Engineer                                      30\n",
       "AI Researcher                                                  30\n",
       "Business Analyst                                               30\n",
       "Product Manager (Entry-level)                                  30\n",
       "QA Engineer                                                    30\n",
       "UX/UI Designer                                                 30\n",
       "Digital Marketing Analyst                                      30\n",
       "Automation Engineer                                            30\n",
       "Robotics Engineer                                              30\n",
       "Game Developer                                                 30\n",
       "Data Visualization Specialist                                  30\n",
       "Mobile App Developer                                           30\n",
       "Site Reliability Engineer (SRE)                                30\n",
       "Salesforce Administrator                                       30\n",
       "Business Intelligence Analyst                                  30\n",
       "Scrum Master (Junior level)                                    30\n",
       "E-commerce Specialist                                          30\n",
       "Systems Administrator                                          30\n",
       "Technical Support Engineer                                     30\n",
       "Web Developer                                                  30\n",
       "Cloud Consultant (Junior level)                                30\n",
       "Cloud Database Engineer                                        30\n",
       "Fundraising Manager (Entry-level)                              30\n",
       "Name: count, dtype: int64"
      ]
     },
     "execution_count": 10,
     "metadata": {},
     "output_type": "execute_result"
    }
   ],
   "source": [
    "df.iloc[:,0].value_counts()"
   ]
  },
  {
   "cell_type": "code",
   "execution_count": 11,
   "id": "6f55a5ca-c87c-43be-bfb9-5cc21e7c1928",
   "metadata": {},
   "outputs": [],
   "source": [
    "%matplotlib inline"
   ]
  },
  {
   "cell_type": "code",
   "execution_count": 12,
   "id": "12b71caf-d21e-43dd-8746-4506b0db6b27",
   "metadata": {},
   "outputs": [
    {
     "data": {
      "image/png": "[encoded data removed]",
      "text/plain": [
       "<Figure size 1000x500 with 1 Axes>"
      ]
     },
     "metadata": {},
     "output_type": "display_data"
    }
   ],
   "source": [
    "plt.figure(figsize=(10,5))\n",
    "sns.countplot(x=df.iloc[:,0])\n",
    "plt.xticks(rotation=90)\n",
    "plt.show()\n"
   ]
  },
  {
   "cell_type": "code",
   "execution_count": 13,
   "id": "a7737316-ede4-4aa6-86af-7de04e5a47a7",
   "metadata": {},
   "outputs": [
    {
     "data": {
      "text/plain": [
       "Index(['role', 'question', 'answer'], dtype='object')"
      ]
     },
     "execution_count": 13,
     "metadata": {},
     "output_type": "execute_result"
    }
   ],
   "source": [
    "df.columns"
   ]
  },
  {
   "cell_type": "markdown",
   "id": "59bb394d-7184-4ac8-815f-f484f9a3f6e6",
   "metadata": {},
   "source": [
    "# Data Preprocessing"
   ]
  },
  {
   "cell_type": "code",
   "execution_count": 14,
   "id": "24584744-3491-405f-a5b5-339d06a0440d",
   "metadata": {},
   "outputs": [
    {
     "name": "stderr",
     "output_type": "stream",
     "text": [
      "[nltk_data] Downloading package stopwords to\n",
      "[nltk_data]     C:\\Users\\DELL\\AppData\\Roaming\\nltk_data...\n",
      "[nltk_data]   Package stopwords is already up-to-date!\n"
     ]
    }
   ],
   "source": [
    "import nltk\n",
    "import string\n",
    "nltk.download('stopwords')\n",
    "\n",
    "\n",
    "from nltk.corpus import stopwords\n",
    "english_stopwords = stopwords.words('english')\n",
    "\n",
    "cleaned_col = []\n",
    "\n",
    "for sent in df['question']:\n",
    "  sent = sent.lower()\n",
    "  for p in string.punctuation:\n",
    "    sent = sent.replace(p, '')\n",
    "\n",
    "  cleaned_col.append(' '.join([word for word in sent.split() if word not in english_stopwords]))\n",
    "df['question'] = cleaned_col\n",
    "    "
   ]
  },
  {
   "cell_type": "code",
   "execution_count": 15,
   "id": "1f2ae406-4fdd-4a75-9940-37b21f420bb7",
   "metadata": {},
   "outputs": [
    {
     "data": {
      "text/html": [
       "<div>\n",
       "<style scoped>\n",
       "    .dataframe tbody tr th:only-of-type {\n",
       "        vertical-align: middle;\n",
       "    }\n",
       "\n",
       "    .dataframe tbody tr th {\n",
       "        vertical-align: top;\n",
       "    }\n",
       "\n",
       "    .dataframe thead th {\n",
       "        text-align: right;\n",
       "    }\n",
       "</style>\n",
       "<table border=\"1\" class=\"dataframe\">\n",
       "  <thead>\n",
       "    <tr style=\"text-align: right;\">\n",
       "      <th></th>\n",
       "      <th>role</th>\n",
       "      <th>question</th>\n",
       "      <th>answer</th>\n",
       "    </tr>\n",
       "  </thead>\n",
       "  <tbody>\n",
       "    <tr>\n",
       "      <th>0</th>\n",
       "      <td>Data Scientist</td>\n",
       "      <td>data scientist</td>\n",
       "      <td>A Data Scientist extracts meaningful insights ...</td>\n",
       "    </tr>\n",
       "    <tr>\n",
       "      <th>1</th>\n",
       "      <td>Data Scientist</td>\n",
       "      <td>main responsibilities data scientist</td>\n",
       "      <td>Responsibilities include data cleaning, analyz...</td>\n",
       "    </tr>\n",
       "    <tr>\n",
       "      <th>2</th>\n",
       "      <td>Data Scientist</td>\n",
       "      <td>job description data scientist</td>\n",
       "      <td>A Data Scientist is responsible for collecting...</td>\n",
       "    </tr>\n",
       "    <tr>\n",
       "      <th>3</th>\n",
       "      <td>Data Scientist</td>\n",
       "      <td>skills required become data scientist</td>\n",
       "      <td>Skills required include expertise in Python or...</td>\n",
       "    </tr>\n",
       "    <tr>\n",
       "      <th>4</th>\n",
       "      <td>Data Scientist</td>\n",
       "      <td>essential skills successful data scientist</td>\n",
       "      <td>A successful Data Scientist needs strong analy...</td>\n",
       "    </tr>\n",
       "    <tr>\n",
       "      <th>...</th>\n",
       "      <td>...</td>\n",
       "      <td>...</td>\n",
       "      <td>...</td>\n",
       "    </tr>\n",
       "    <tr>\n",
       "      <th>1615</th>\n",
       "      <td>Fundraising Manager (Entry-level)</td>\n",
       "      <td>difficulties fundraising managers face jobs</td>\n",
       "      <td>Fundraising Managers face challenges such as m...</td>\n",
       "    </tr>\n",
       "    <tr>\n",
       "      <th>1616</th>\n",
       "      <td>Fundraising Manager (Entry-level)</td>\n",
       "      <td>problems fundraising manager typically encounter</td>\n",
       "      <td>Problems include managing tight budgets, ensur...</td>\n",
       "    </tr>\n",
       "    <tr>\n",
       "      <th>1617</th>\n",
       "      <td>Fundraising Manager (Entry-level)</td>\n",
       "      <td>start career fundraising manager</td>\n",
       "      <td>Start by gaining experience in fundraising, ev...</td>\n",
       "    </tr>\n",
       "    <tr>\n",
       "      <th>1618</th>\n",
       "      <td>Fundraising Manager (Entry-level)</td>\n",
       "      <td>entrylevel requirements fundraising manager</td>\n",
       "      <td>Entry-level requirements typically include a b...</td>\n",
       "    </tr>\n",
       "    <tr>\n",
       "      <th>1619</th>\n",
       "      <td>Fundraising Manager (Entry-level)</td>\n",
       "      <td>begin working fundraising manager</td>\n",
       "      <td>Begin by applying for entry-level roles like F...</td>\n",
       "    </tr>\n",
       "  </tbody>\n",
       "</table>\n",
       "<p>1620 rows × 3 columns</p>\n",
       "</div>"
      ],
      "text/plain": [
       "                                   role  \\\n",
       "0                        Data Scientist   \n",
       "1                        Data Scientist   \n",
       "2                        Data Scientist   \n",
       "3                        Data Scientist   \n",
       "4                        Data Scientist   \n",
       "...                                 ...   \n",
       "1615  Fundraising Manager (Entry-level)   \n",
       "1616  Fundraising Manager (Entry-level)   \n",
       "1617  Fundraising Manager (Entry-level)   \n",
       "1618  Fundraising Manager (Entry-level)   \n",
       "1619  Fundraising Manager (Entry-level)   \n",
       "\n",
       "                                              question  \\\n",
       "0                                       data scientist   \n",
       "1                 main responsibilities data scientist   \n",
       "2                       job description data scientist   \n",
       "3                skills required become data scientist   \n",
       "4           essential skills successful data scientist   \n",
       "...                                                ...   \n",
       "1615       difficulties fundraising managers face jobs   \n",
       "1616  problems fundraising manager typically encounter   \n",
       "1617                  start career fundraising manager   \n",
       "1618       entrylevel requirements fundraising manager   \n",
       "1619                 begin working fundraising manager   \n",
       "\n",
       "                                                 answer  \n",
       "0     A Data Scientist extracts meaningful insights ...  \n",
       "1     Responsibilities include data cleaning, analyz...  \n",
       "2     A Data Scientist is responsible for collecting...  \n",
       "3     Skills required include expertise in Python or...  \n",
       "4     A successful Data Scientist needs strong analy...  \n",
       "...                                                 ...  \n",
       "1615  Fundraising Managers face challenges such as m...  \n",
       "1616  Problems include managing tight budgets, ensur...  \n",
       "1617  Start by gaining experience in fundraising, ev...  \n",
       "1618  Entry-level requirements typically include a b...  \n",
       "1619  Begin by applying for entry-level roles like F...  \n",
       "\n",
       "[1620 rows x 3 columns]"
      ]
     },
     "execution_count": 15,
     "metadata": {},
     "output_type": "execute_result"
    }
   ],
   "source": [
    "df"
   ]
  },
  {
   "cell_type": "markdown",
   "id": "accd2c80-8ce8-4f1d-a9c0-69f8dac14403",
   "metadata": {},
   "source": [
    "# Vectorization"
   ]
  },
  {
   "cell_type": "code",
   "execution_count": 17,
   "id": "c7e1bf6e-f46f-4151-8c0d-ef6fb7c43e32",
   "metadata": {},
   "outputs": [],
   "source": [
    "from sklearn.feature_extraction.text import TfidfVectorizer\n",
    "from sklearn.preprocessing import LabelEncoder\n",
    "\n",
    "encoder = LabelEncoder()\n",
    "vectorizer  = TfidfVectorizer()\n",
    "\n",
    "X = vectorizer.fit_transform(df['question'])\n",
    "y = encoder.fit_transform(df['role'])"
   ]
  },
  {
   "cell_type": "code",
   "execution_count": 18,
   "id": "99311fe9-8b26-410c-b661-b2afced6d62d",
   "metadata": {},
   "outputs": [
    {
     "data": {
      "text/plain": [
       "<Compressed Sparse Row sparse matrix of dtype 'float64'\n",
       "\twith 8116 stored elements and shape (1620, 163)>"
      ]
     },
     "execution_count": 18,
     "metadata": {},
     "output_type": "execute_result"
    }
   ],
   "source": [
    "X"
   ]
  },
  {
   "cell_type": "code",
   "execution_count": 19,
   "id": "50cf0d1a-4c5a-4573-b9f8-eedbbb8db714",
   "metadata": {},
   "outputs": [
    {
     "data": {
      "text/plain": [
       "array([[0.       , 0.       , 0.       , ..., 0.       , 0.       ,\n",
       "        0.       ],\n",
       "       [0.       , 0.       , 0.       , ..., 0.       , 0.       ,\n",
       "        0.       ],\n",
       "       [0.       , 0.       , 0.       , ..., 0.       , 0.       ,\n",
       "        0.       ],\n",
       "       ...,\n",
       "       [0.       , 0.       , 0.       , ..., 0.       , 0.       ,\n",
       "        0.       ],\n",
       "       [0.       , 0.       , 0.       , ..., 0.       , 0.       ,\n",
       "        0.       ],\n",
       "       [0.       , 0.       , 0.       , ..., 0.       , 0.       ,\n",
       "        0.5268764]])"
      ]
     },
     "execution_count": 19,
     "metadata": {},
     "output_type": "execute_result"
    }
   ],
   "source": [
    "X.toarray()"
   ]
  },
  {
   "cell_type": "code",
   "execution_count": 20,
   "id": "44961059-7fa8-44e1-8549-f22aad21f82b",
   "metadata": {},
   "outputs": [
    {
     "data": {
      "text/plain": [
       "array([16, 16, 16, ..., 22, 22, 22])"
      ]
     },
     "execution_count": 20,
     "metadata": {},
     "output_type": "execute_result"
    }
   ],
   "source": [
    "y"
   ]
  },
  {
   "cell_type": "code",
   "execution_count": 21,
   "id": "906d0768-630d-4a1f-9631-367a5710deee",
   "metadata": {},
   "outputs": [
    {
     "data": {
      "text/plain": [
       "(1620, 163)"
      ]
     },
     "execution_count": 21,
     "metadata": {},
     "output_type": "execute_result"
    }
   ],
   "source": [
    "X.shape"
   ]
  },
  {
   "cell_type": "code",
   "execution_count": 22,
   "id": "4ebc2276-4b90-4326-8240-a8d6e2b33d31",
   "metadata": {},
   "outputs": [
    {
     "data": {
      "text/plain": [
       "(1620,)"
      ]
     },
     "execution_count": 22,
     "metadata": {},
     "output_type": "execute_result"
    }
   ],
   "source": [
    "y.shape"
   ]
  },
  {
   "cell_type": "markdown",
   "id": "f014f65b-0290-44b9-9c7b-8b3e739731d3",
   "metadata": {},
   "source": [
    "# Splitting the data into train and test data"
   ]
  },
  {
   "cell_type": "code",
   "execution_count": 23,
   "id": "626d717e-6174-4bdf-b174-62f3967ebe0b",
   "metadata": {},
   "outputs": [],
   "source": [
    "from sklearn.model_selection import train_test_split\n",
    "X_train, X_test, y_train, y_test = train_test_split(X, y, test_size=0.2, random_state=42)"
   ]
  },
  {
   "cell_type": "markdown",
   "id": "d6808e13-f293-4e95-bbd5-6be5d5f34c95",
   "metadata": {},
   "source": [
    "# Model"
   ]
  },
  {
   "cell_type": "code",
   "execution_count": 24,
   "id": "1f4bfa36-129a-4ce1-85eb-0def65247735",
   "metadata": {},
   "outputs": [
    {
     "data": {
      "text/html": [
       "<style>#sk-container-id-1 {\n",
       "  /* Definition of color scheme common for light and dark mode */\n",
       "  --sklearn-color-text: black;\n",
       "  --sklearn-color-line: gray;\n",
       "  /* Definition of color scheme for unfitted estimators */\n",
       "  --sklearn-color-unfitted-level-0: #fff5e6;\n",
       "  --sklearn-color-unfitted-level-1: #f6e4d2;\n",
       "  --sklearn-color-unfitted-level-2: #ffe0b3;\n",
       "  --sklearn-color-unfitted-level-3: chocolate;\n",
       "  /* Definition of color scheme for fitted estimators */\n",
       "  --sklearn-color-fitted-level-0: #f0f8ff;\n",
       "  --sklearn-color-fitted-level-1: #d4ebff;\n",
       "  --sklearn-color-fitted-level-2: #b3dbfd;\n",
       "  --sklearn-color-fitted-level-3: cornflowerblue;\n",
       "\n",
       "  /* Specific color for light theme */\n",
       "  --sklearn-color-text-on-default-background: var(--sg-text-color, var(--theme-code-foreground, var(--jp-content-font-color1, black)));\n",
       "  --sklearn-color-background: var(--sg-background-color, var(--theme-background, var(--jp-layout-color0, white)));\n",
       "  --sklearn-color-border-box: var(--sg-text-color, var(--theme-code-foreground, var(--jp-content-font-color1, black)));\n",
       "  --sklearn-color-icon: #696969;\n",
       "\n",
       "  @media (prefers-color-scheme: dark) {\n",
       "    /* Redefinition of color scheme for dark theme */\n",
       "    --sklearn-color-text-on-default-background: var(--sg-text-color, var(--theme-code-foreground, var(--jp-content-font-color1, white)));\n",
       "    --sklearn-color-background: var(--sg-background-color, var(--theme-background, var(--jp-layout-color0, #111)));\n",
       "    --sklearn-color-border-box: var(--sg-text-color, var(--theme-code-foreground, var(--jp-content-font-color1, white)));\n",
       "    --sklearn-color-icon: #878787;\n",
       "  }\n",
       "}\n",
       "\n",
       "#sk-container-id-1 {\n",
       "  color: var(--sklearn-color-text);\n",
       "}\n",
       "\n",
       "#sk-container-id-1 pre {\n",
       "  padding: 0;\n",
       "}\n",
       "\n",
       "#sk-container-id-1 input.sk-hidden--visually {\n",
       "  border: 0;\n",
       "  clip: rect(1px 1px 1px 1px);\n",
       "  clip: rect(1px, 1px, 1px, 1px);\n",
       "  height: 1px;\n",
       "  margin: -1px;\n",
       "  overflow: hidden;\n",
       "  padding: 0;\n",
       "  position: absolute;\n",
       "  width: 1px;\n",
       "}\n",
       "\n",
       "#sk-container-id-1 div.sk-dashed-wrapped {\n",
       "  border: 1px dashed var(--sklearn-color-line);\n",
       "  margin: 0 0.4em 0.5em 0.4em;\n",
       "  box-sizing: border-box;\n",
       "  padding-bottom: 0.4em;\n",
       "  background-color: var(--sklearn-color-background);\n",
       "}\n",
       "\n",
       "#sk-container-id-1 div.sk-container {\n",
       "  /* jupyter's `normalize.less` sets `[hidden] { display: none; }`\n",
       "     but bootstrap.min.css set `[hidden] { display: none !important; }`\n",
       "     so we also need the `!important` here to be able to override the\n",
       "     default hidden behavior on the sphinx rendered scikit-learn.org.\n",
       "     See: https://github.com/scikit-learn/scikit-learn/issues/21755 */\n",
       "  display: inline-block !important;\n",
       "  position: relative;\n",
       "}\n",
       "\n",
       "#sk-container-id-1 div.sk-text-repr-fallback {\n",
       "  display: none;\n",
       "}\n",
       "\n",
       "div.sk-parallel-item,\n",
       "div.sk-serial,\n",
       "div.sk-item {\n",
       "  /* draw centered vertical line to link estimators */\n",
       "  background-image: linear-gradient(var(--sklearn-color-text-on-default-background), var(--sklearn-color-text-on-default-background));\n",
       "  background-size: 2px 100%;\n",
       "  background-repeat: no-repeat;\n",
       "  background-position: center center;\n",
       "}\n",
       "\n",
       "/* Parallel-specific style estimator block */\n",
       "\n",
       "#sk-container-id-1 div.sk-parallel-item::after {\n",
       "  content: \"\";\n",
       "  width: 100%;\n",
       "  border-bottom: 2px solid var(--sklearn-color-text-on-default-background);\n",
       "  flex-grow: 1;\n",
       "}\n",
       "\n",
       "#sk-container-id-1 div.sk-parallel {\n",
       "  display: flex;\n",
       "  align-items: stretch;\n",
       "  justify-content: center;\n",
       "  background-color: var(--sklearn-color-background);\n",
       "  position: relative;\n",
       "}\n",
       "\n",
       "#sk-container-id-1 div.sk-parallel-item {\n",
       "  display: flex;\n",
       "  flex-direction: column;\n",
       "}\n",
       "\n",
       "#sk-container-id-1 div.sk-parallel-item:first-child::after {\n",
       "  align-self: flex-end;\n",
       "  width: 50%;\n",
       "}\n",
       "\n",
       "#sk-container-id-1 div.sk-parallel-item:last-child::after {\n",
       "  align-self: flex-start;\n",
       "  width: 50%;\n",
       "}\n",
       "\n",
       "#sk-container-id-1 div.sk-parallel-item:only-child::after {\n",
       "  width: 0;\n",
       "}\n",
       "\n",
       "/* Serial-specific style estimator block */\n",
       "\n",
       "#sk-container-id-1 div.sk-serial {\n",
       "  display: flex;\n",
       "  flex-direction: column;\n",
       "  align-items: center;\n",
       "  background-color: var(--sklearn-color-background);\n",
       "  padding-right: 1em;\n",
       "  padding-left: 1em;\n",
       "}\n",
       "\n",
       "\n",
       "/* Toggleable style: style used for estimator/Pipeline/ColumnTransformer box that is\n",
       "clickable and can be expanded/collapsed.\n",
       "- Pipeline and ColumnTransformer use this feature and define the default style\n",
       "- Estimators will overwrite some part of the style using the `sk-estimator` class\n",
       "*/\n",
       "\n",
       "/* Pipeline and ColumnTransformer style (default) */\n",
       "\n",
       "#sk-container-id-1 div.sk-toggleable {\n",
       "  /* Default theme specific background. It is overwritten whether we have a\n",
       "  specific estimator or a Pipeline/ColumnTransformer */\n",
       "  background-color: var(--sklearn-color-background);\n",
       "}\n",
       "\n",
       "/* Toggleable label */\n",
       "#sk-container-id-1 label.sk-toggleable__label {\n",
       "  cursor: pointer;\n",
       "  display: block;\n",
       "  width: 100%;\n",
       "  margin-bottom: 0;\n",
       "  padding: 0.5em;\n",
       "  box-sizing: border-box;\n",
       "  text-align: center;\n",
       "}\n",
       "\n",
       "#sk-container-id-1 label.sk-toggleable__label-arrow:before {\n",
       "  /* Arrow on the left of the label */\n",
       "  content: \"▸\";\n",
       "  float: left;\n",
       "  margin-right: 0.25em;\n",
       "  color: var(--sklearn-color-icon);\n",
       "}\n",
       "\n",
       "#sk-container-id-1 label.sk-toggleable__label-arrow:hover:before {\n",
       "  color: var(--sklearn-color-text);\n",
       "}\n",
       "\n",
       "/* Toggleable content - dropdown */\n",
       "\n",
       "#sk-container-id-1 div.sk-toggleable__content {\n",
       "  max-height: 0;\n",
       "  max-width: 0;\n",
       "  overflow: hidden;\n",
       "  text-align: left;\n",
       "  /* unfitted */\n",
       "  background-color: var(--sklearn-color-unfitted-level-0);\n",
       "}\n",
       "\n",
       "#sk-container-id-1 div.sk-toggleable__content.fitted {\n",
       "  /* fitted */\n",
       "  background-color: var(--sklearn-color-fitted-level-0);\n",
       "}\n",
       "\n",
       "#sk-container-id-1 div.sk-toggleable__content pre {\n",
       "  margin: 0.2em;\n",
       "  border-radius: 0.25em;\n",
       "  color: var(--sklearn-color-text);\n",
       "  /* unfitted */\n",
       "  background-color: var(--sklearn-color-unfitted-level-0);\n",
       "}\n",
       "\n",
       "#sk-container-id-1 div.sk-toggleable__content.fitted pre {\n",
       "  /* unfitted */\n",
       "  background-color: var(--sklearn-color-fitted-level-0);\n",
       "}\n",
       "\n",
       "#sk-container-id-1 input.sk-toggleable__control:checked~div.sk-toggleable__content {\n",
       "  /* Expand drop-down */\n",
       "  max-height: 200px;\n",
       "  max-width: 100%;\n",
       "  overflow: auto;\n",
       "}\n",
       "\n",
       "#sk-container-id-1 input.sk-toggleable__control:checked~label.sk-toggleable__label-arrow:before {\n",
       "  content: \"▾\";\n",
       "}\n",
       "\n",
       "/* Pipeline/ColumnTransformer-specific style */\n",
       "\n",
       "#sk-container-id-1 div.sk-label input.sk-toggleable__control:checked~label.sk-toggleable__label {\n",
       "  color: var(--sklearn-color-text);\n",
       "  background-color: var(--sklearn-color-unfitted-level-2);\n",
       "}\n",
       "\n",
       "#sk-container-id-1 div.sk-label.fitted input.sk-toggleable__control:checked~label.sk-toggleable__label {\n",
       "  background-color: var(--sklearn-color-fitted-level-2);\n",
       "}\n",
       "\n",
       "/* Estimator-specific style */\n",
       "\n",
       "/* Colorize estimator box */\n",
       "#sk-container-id-1 div.sk-estimator input.sk-toggleable__control:checked~label.sk-toggleable__label {\n",
       "  /* unfitted */\n",
       "  background-color: var(--sklearn-color-unfitted-level-2);\n",
       "}\n",
       "\n",
       "#sk-container-id-1 div.sk-estimator.fitted input.sk-toggleable__control:checked~label.sk-toggleable__label {\n",
       "  /* fitted */\n",
       "  background-color: var(--sklearn-color-fitted-level-2);\n",
       "}\n",
       "\n",
       "#sk-container-id-1 div.sk-label label.sk-toggleable__label,\n",
       "#sk-container-id-1 div.sk-label label {\n",
       "  /* The background is the default theme color */\n",
       "  color: var(--sklearn-color-text-on-default-background);\n",
       "}\n",
       "\n",
       "/* On hover, darken the color of the background */\n",
       "#sk-container-id-1 div.sk-label:hover label.sk-toggleable__label {\n",
       "  color: var(--sklearn-color-text);\n",
       "  background-color: var(--sklearn-color-unfitted-level-2);\n",
       "}\n",
       "\n",
       "/* Label box, darken color on hover, fitted */\n",
       "#sk-container-id-1 div.sk-label.fitted:hover label.sk-toggleable__label.fitted {\n",
       "  color: var(--sklearn-color-text);\n",
       "  background-color: var(--sklearn-color-fitted-level-2);\n",
       "}\n",
       "\n",
       "/* Estimator label */\n",
       "\n",
       "#sk-container-id-1 div.sk-label label {\n",
       "  font-family: monospace;\n",
       "  font-weight: bold;\n",
       "  display: inline-block;\n",
       "  line-height: 1.2em;\n",
       "}\n",
       "\n",
       "#sk-container-id-1 div.sk-label-container {\n",
       "  text-align: center;\n",
       "}\n",
       "\n",
       "/* Estimator-specific */\n",
       "#sk-container-id-1 div.sk-estimator {\n",
       "  font-family: monospace;\n",
       "  border: 1px dotted var(--sklearn-color-border-box);\n",
       "  border-radius: 0.25em;\n",
       "  box-sizing: border-box;\n",
       "  margin-bottom: 0.5em;\n",
       "  /* unfitted */\n",
       "  background-color: var(--sklearn-color-unfitted-level-0);\n",
       "}\n",
       "\n",
       "#sk-container-id-1 div.sk-estimator.fitted {\n",
       "  /* fitted */\n",
       "  background-color: var(--sklearn-color-fitted-level-0);\n",
       "}\n",
       "\n",
       "/* on hover */\n",
       "#sk-container-id-1 div.sk-estimator:hover {\n",
       "  /* unfitted */\n",
       "  background-color: var(--sklearn-color-unfitted-level-2);\n",
       "}\n",
       "\n",
       "#sk-container-id-1 div.sk-estimator.fitted:hover {\n",
       "  /* fitted */\n",
       "  background-color: var(--sklearn-color-fitted-level-2);\n",
       "}\n",
       "\n",
       "/* Specification for estimator info (e.g. \"i\" and \"?\") */\n",
       "\n",
       "/* Common style for \"i\" and \"?\" */\n",
       "\n",
       ".sk-estimator-doc-link,\n",
       "a:link.sk-estimator-doc-link,\n",
       "a:visited.sk-estimator-doc-link {\n",
       "  float: right;\n",
       "  font-size: smaller;\n",
       "  line-height: 1em;\n",
       "  font-family: monospace;\n",
       "  background-color: var(--sklearn-color-background);\n",
       "  border-radius: 1em;\n",
       "  height: 1em;\n",
       "  width: 1em;\n",
       "  text-decoration: none !important;\n",
       "  margin-left: 1ex;\n",
       "  /* unfitted */\n",
       "  border: var(--sklearn-color-unfitted-level-1) 1pt solid;\n",
       "  color: var(--sklearn-color-unfitted-level-1);\n",
       "}\n",
       "\n",
       ".sk-estimator-doc-link.fitted,\n",
       "a:link.sk-estimator-doc-link.fitted,\n",
       "a:visited.sk-estimator-doc-link.fitted {\n",
       "  /* fitted */\n",
       "  border: var(--sklearn-color-fitted-level-1) 1pt solid;\n",
       "  color: var(--sklearn-color-fitted-level-1);\n",
       "}\n",
       "\n",
       "/* On hover */\n",
       "div.sk-estimator:hover .sk-estimator-doc-link:hover,\n",
       ".sk-estimator-doc-link:hover,\n",
       "div.sk-label-container:hover .sk-estimator-doc-link:hover,\n",
       ".sk-estimator-doc-link:hover {\n",
       "  /* unfitted */\n",
       "  background-color: var(--sklearn-color-unfitted-level-3);\n",
       "  color: var(--sklearn-color-background);\n",
       "  text-decoration: none;\n",
       "}\n",
       "\n",
       "div.sk-estimator.fitted:hover .sk-estimator-doc-link.fitted:hover,\n",
       ".sk-estimator-doc-link.fitted:hover,\n",
       "div.sk-label-container:hover .sk-estimator-doc-link.fitted:hover,\n",
       ".sk-estimator-doc-link.fitted:hover {\n",
       "  /* fitted */\n",
       "  background-color: var(--sklearn-color-fitted-level-3);\n",
       "  color: var(--sklearn-color-background);\n",
       "  text-decoration: none;\n",
       "}\n",
       "\n",
       "/* Span, style for the box shown on hovering the info icon */\n",
       ".sk-estimator-doc-link span {\n",
       "  display: none;\n",
       "  z-index: 9999;\n",
       "  position: relative;\n",
       "  font-weight: normal;\n",
       "  right: .2ex;\n",
       "  padding: .5ex;\n",
       "  margin: .5ex;\n",
       "  width: min-content;\n",
       "  min-width: 20ex;\n",
       "  max-width: 50ex;\n",
       "  color: var(--sklearn-color-text);\n",
       "  box-shadow: 2pt 2pt 4pt #999;\n",
       "  /* unfitted */\n",
       "  background: var(--sklearn-color-unfitted-level-0);\n",
       "  border: .5pt solid var(--sklearn-color-unfitted-level-3);\n",
       "}\n",
       "\n",
       ".sk-estimator-doc-link.fitted span {\n",
       "  /* fitted */\n",
       "  background: var(--sklearn-color-fitted-level-0);\n",
       "  border: var(--sklearn-color-fitted-level-3);\n",
       "}\n",
       "\n",
       ".sk-estimator-doc-link:hover span {\n",
       "  display: block;\n",
       "}\n",
       "\n",
       "/* \"?\"-specific style due to the `<a>` HTML tag */\n",
       "\n",
       "#sk-container-id-1 a.estimator_doc_link {\n",
       "  float: right;\n",
       "  font-size: 1rem;\n",
       "  line-height: 1em;\n",
       "  font-family: monospace;\n",
       "  background-color: var(--sklearn-color-background);\n",
       "  border-radius: 1rem;\n",
       "  height: 1rem;\n",
       "  width: 1rem;\n",
       "  text-decoration: none;\n",
       "  /* unfitted */\n",
       "  color: var(--sklearn-color-unfitted-level-1);\n",
       "  border: var(--sklearn-color-unfitted-level-1) 1pt solid;\n",
       "}\n",
       "\n",
       "#sk-container-id-1 a.estimator_doc_link.fitted {\n",
       "  /* fitted */\n",
       "  border: var(--sklearn-color-fitted-level-1) 1pt solid;\n",
       "  color: var(--sklearn-color-fitted-level-1);\n",
       "}\n",
       "\n",
       "/* On hover */\n",
       "#sk-container-id-1 a.estimator_doc_link:hover {\n",
       "  /* unfitted */\n",
       "  background-color: var(--sklearn-color-unfitted-level-3);\n",
       "  color: var(--sklearn-color-background);\n",
       "  text-decoration: none;\n",
       "}\n",
       "\n",
       "#sk-container-id-1 a.estimator_doc_link.fitted:hover {\n",
       "  /* fitted */\n",
       "  background-color: var(--sklearn-color-fitted-level-3);\n",
       "}\n",
       "</style><div id=\"sk-container-id-1\" class=\"sk-top-container\"><div class=\"sk-text-repr-fallback\"><pre>LogisticRegression()</pre><b>In a Jupyter environment, please rerun this cell to show the HTML representation or trust the notebook. <br />On GitHub, the HTML representation is unable to render, please try loading this page with nbviewer.org.</b></div><div class=\"sk-container\" hidden><div class=\"sk-item\"><div class=\"sk-estimator fitted sk-toggleable\"><input class=\"sk-toggleable__control sk-hidden--visually\" id=\"sk-estimator-id-1\" type=\"checkbox\" checked><label for=\"sk-estimator-id-1\" class=\"sk-toggleable__label fitted sk-toggleable__label-arrow fitted\">&nbsp;&nbsp;LogisticRegression<a class=\"sk-estimator-doc-link fitted\" rel=\"noreferrer\" target=\"_blank\" href=\"https://scikit-learn.org/1.5/modules/generated/sklearn.linear_model.LogisticRegression.html\">?<span>Documentation for LogisticRegression</span></a><span class=\"sk-estimator-doc-link fitted\">i<span>Fitted</span></span></label><div class=\"sk-toggleable__content fitted\"><pre>LogisticRegression()</pre></div> </div></div></div></div>"
      ],
      "text/plain": [
       "LogisticRegression()"
      ]
     },
     "execution_count": 24,
     "metadata": {},
     "output_type": "execute_result"
    }
   ],
   "source": [
    "from sklearn.linear_model import LogisticRegression\n",
    "model = LogisticRegression()\n",
    "model.fit(X_train, y_train)"
   ]
  },
  {
   "cell_type": "markdown",
   "id": "9da02e72-0655-4770-8123-198240b74c8f",
   "metadata": {},
   "source": [
    "**Predictions**"
   ]
  },
  {
   "cell_type": "code",
   "execution_count": 25,
   "id": "898430ba-a666-481b-b3de-3c366fbafda7",
   "metadata": {},
   "outputs": [
    {
     "data": {
      "text/plain": [
       "array([ 0, 44,  2, 43, 22, 25,  2, 45, 40, 18, 48, 12, 53, 16, 43,  5, 17,\n",
       "       52, 45, 18,  6, 52, 52, 30, 32, 23, 25, 42, 46,  2,  1,  6, 11, 43,\n",
       "       15,  0, 32, 21, 14, 30, 44, 10, 45, 42,  2, 25, 41, 38, 16, 18, 15,\n",
       "        9, 17,  3, 31, 42, 46, 28, 29, 33, 48,  7,  8, 32, 10, 53,  4,  3,\n",
       "       15, 37, 46, 31,  5,  7, 31, 37, 30,  3, 48, 24, 39, 47, 27, 18,  4,\n",
       "       30, 52, 41, 51, 29, 26, 37, 31, 41,  9, 19, 10,  3, 52, 24, 49, 45,\n",
       "        5, 15, 37, 11, 17, 23, 19, 39,  9,  9,  8, 10, 42, 48, 53, 21,  8,\n",
       "       39, 49,  2,  1,  3, 46, 27, 48, 43, 36,  4, 49, 50, 23, 28, 50, 15,\n",
       "       46,  7, 18, 43, 50, 29, 38,  0, 14, 36, 49,  9, 11, 44, 36,  8, 18,\n",
       "       26, 44, 46, 13,  0, 45, 19,  8, 42, 39,  1, 37, 32, 19, 34, 35, 28,\n",
       "       25, 12, 32,  8, 50, 44,  2, 21, 23, 22, 34, 17, 35, 50, 31, 10, 33,\n",
       "       40, 17,  1, 42, 12, 26, 47, 34, 45, 13,  7, 35,  6, 40, 15, 23, 26,\n",
       "       20, 14,  5, 52, 12, 19,  2, 14, 27, 23, 26, 47,  7, 23,  2, 17,  6,\n",
       "       46, 39, 33, 11, 51, 39, 44, 20, 34, 16, 41, 40, 43, 45, 25, 38, 35,\n",
       "       24, 20, 25, 19, 10, 51, 34, 13,  9, 20,  6, 14,  8, 22, 35, 48, 29,\n",
       "       43, 28, 33, 15, 18, 15, 27, 21, 27, 49, 27, 17, 30, 38, 20, 39, 26,\n",
       "       25,  3,  0, 11,  5,  1, 39,  4, 10,  9, 44,  3,  8, 41, 43,  9, 42,\n",
       "       10, 42,  8, 32, 36, 48, 37, 51,  7, 44, 13, 52, 28, 23, 12, 31, 50,\n",
       "        6, 34, 13, 46,  1,  3, 28,  2, 48, 33, 41, 39, 32, 36, 14, 18,  8,\n",
       "       26])"
      ]
     },
     "execution_count": 25,
     "metadata": {},
     "output_type": "execute_result"
    }
   ],
   "source": [
    "y_pred = model.predict(X_test)\n",
    "y_pred"
   ]
  },
  {
   "cell_type": "markdown",
   "id": "59bfcb26-def2-4950-a70c-c7acbcd3fc66",
   "metadata": {},
   "source": [
    "**Evaluation**"
   ]
  },
  {
   "cell_type": "code",
   "execution_count": 26,
   "id": "91c21b4d-de3a-4791-b50b-59ca76e79048",
   "metadata": {},
   "outputs": [
    {
     "name": "stdout",
     "output_type": "stream",
     "text": [
      "1.0\n",
      "              precision    recall  f1-score   support\n",
      "\n",
      "           0       1.00      1.00      1.00         5\n",
      "           1       1.00      1.00      1.00         6\n",
      "           2       1.00      1.00      1.00         9\n",
      "           3       1.00      1.00      1.00         8\n",
      "           4       1.00      1.00      1.00         4\n",
      "           5       1.00      1.00      1.00         5\n",
      "           6       1.00      1.00      1.00         6\n",
      "           7       1.00      1.00      1.00         6\n",
      "           8       1.00      1.00      1.00        10\n",
      "           9       1.00      1.00      1.00         8\n",
      "          10       1.00      1.00      1.00         8\n",
      "          11       1.00      1.00      1.00         5\n",
      "          12       1.00      1.00      1.00         5\n",
      "          13       1.00      1.00      1.00         5\n",
      "          14       1.00      1.00      1.00         6\n",
      "          15       1.00      1.00      1.00         8\n",
      "          16       1.00      1.00      1.00         3\n",
      "          17       1.00      1.00      1.00         7\n",
      "          18       1.00      1.00      1.00         8\n",
      "          19       1.00      1.00      1.00         6\n",
      "          20       1.00      1.00      1.00         5\n",
      "          21       1.00      1.00      1.00         4\n",
      "          22       1.00      1.00      1.00         3\n",
      "          23       1.00      1.00      1.00         8\n",
      "          24       1.00      1.00      1.00         3\n",
      "          25       1.00      1.00      1.00         7\n",
      "          26       1.00      1.00      1.00         7\n",
      "          27       1.00      1.00      1.00         6\n",
      "          28       1.00      1.00      1.00         6\n",
      "          29       1.00      1.00      1.00         4\n",
      "          30       1.00      1.00      1.00         5\n",
      "          31       1.00      1.00      1.00         6\n",
      "          32       1.00      1.00      1.00         7\n",
      "          33       1.00      1.00      1.00         5\n",
      "          34       1.00      1.00      1.00         6\n",
      "          35       1.00      1.00      1.00         5\n",
      "          36       1.00      1.00      1.00         5\n",
      "          37       1.00      1.00      1.00         6\n",
      "          38       1.00      1.00      1.00         4\n",
      "          39       1.00      1.00      1.00         9\n",
      "          40       1.00      1.00      1.00         4\n",
      "          41       1.00      1.00      1.00         6\n",
      "          42       1.00      1.00      1.00         8\n",
      "          43       1.00      1.00      1.00         8\n",
      "          44       1.00      1.00      1.00         8\n",
      "          45       1.00      1.00      1.00         7\n",
      "          46       1.00      1.00      1.00         8\n",
      "          47       1.00      1.00      1.00         3\n",
      "          48       1.00      1.00      1.00         8\n",
      "          49       1.00      1.00      1.00         5\n",
      "          50       1.00      1.00      1.00         6\n",
      "          51       1.00      1.00      1.00         4\n",
      "          52       1.00      1.00      1.00         7\n",
      "          53       1.00      1.00      1.00         3\n",
      "\n",
      "    accuracy                           1.00       324\n",
      "   macro avg       1.00      1.00      1.00       324\n",
      "weighted avg       1.00      1.00      1.00       324\n",
      "\n"
     ]
    }
   ],
   "source": [
    "from sklearn.metrics import accuracy_score, classification_report\n",
    "print(accuracy_score(y_test, y_pred))\n",
    "print(classification_report(y_test, y_pred))"
   ]
  },
  {
   "cell_type": "markdown",
   "id": "dc95b447-70c2-4a6a-8e88-696483e09e2d",
   "metadata": {},
   "source": [
    "**Saving model and vectorizer**"
   ]
  },
  {
   "cell_type": "code",
   "execution_count": 27,
   "id": "9e53c1a7-4dd2-4a68-809e-b3d2df90949a",
   "metadata": {},
   "outputs": [
    {
     "data": {
      "text/plain": [
       "['vectorizer.pkl']"
      ]
     },
     "execution_count": 27,
     "metadata": {},
     "output_type": "execute_result"
    }
   ],
   "source": [
    "import joblib\n",
    "\n",
    "# Save model\n",
    "joblib.dump(model, 'chatbot_model.pkl')\n",
    "\n",
    "# Save vectorizer\n",
    "joblib.dump(vectorizer, 'vectorizer.pkl')"
   ]
  },
  {
   "cell_type": "code",
   "execution_count": null,
   "id": "9a73b860-dec1-4c64-aad8-9972157e09a6",
   "metadata": {},
   "outputs": [],
   "source": []
  },
  {
   "cell_type": "code",
   "execution_count": null,
   "id": "6972c824-6243-4d11-a3ec-7ec229cd7324",
   "metadata": {},
   "outputs": [],
   "source": []
  }
 ],
 "metadata": {
  "kernelspec": {
   "display_name": "Python 3 (ipykernel)",
   "language": "python",
   "name": "python3"
  },
  "language_info": {
   "codemirror_mode": {
    "name": "ipython",
    "version": 3
   },
   "file_extension": ".py",
   "mimetype": "text/x-python",
   "name": "python",
   "nbconvert_exporter": "python",
   "pygments_lexer": "ipython3",
   "version": "3.12.4"
  }
 },
 "nbformat": 4,
 "nbformat_minor": 5
}
